{
 "cells": [
  {
   "cell_type": "markdown",
   "metadata": {},
   "source": [
    "Read pulsar data taken from the CSIRO DAP at  \n",
    "https://data.csiro.au/dap/search?q=pulsars  \n",
    "and interpret according to psrfits format described at  \n",
    "http://www.atnf.csiro.au/people/pulsar/index.html?n=Main.Psrfits  \n",
    "(detailed view at http://www.atnf.csiro.au/people/pulsar/index.html?n=PsrfitsDocumentation.Txt)  "
   ]
  },
  {
   "cell_type": "code",
   "execution_count": null,
   "metadata": {
    "collapsed": false
   },
   "outputs": [],
   "source": [
    "%matplotlib inline"
   ]
  },
  {
   "cell_type": "code",
   "execution_count": null,
   "metadata": {
    "collapsed": true
   },
   "outputs": [],
   "source": [
    "import numpy as np\n",
    "import scipy.signal as ss\n",
    "import astropy\n",
    "from astropy.io import fits\n",
    "import matplotlib.pyplot as plt"
   ]
  },
  {
   "cell_type": "code",
   "execution_count": null,
   "metadata": {
    "collapsed": false
   },
   "outputs": [],
   "source": [
    "cd ~/pulsarvoices/data"
   ]
  },
  {
   "cell_type": "code",
   "execution_count": null,
   "metadata": {
    "collapsed": false
   },
   "outputs": [],
   "source": [
    "ls"
   ]
  },
  {
   "cell_type": "code",
   "execution_count": null,
   "metadata": {
    "collapsed": false
   },
   "outputs": [],
   "source": [
    "hdulist = fits.open('p130712_234328.rf')"
   ]
  },
  {
   "cell_type": "code",
   "execution_count": null,
   "metadata": {
    "collapsed": false
   },
   "outputs": [],
   "source": [
    "hdulist.info()"
   ]
  },
  {
   "cell_type": "code",
   "execution_count": null,
   "metadata": {
    "collapsed": false
   },
   "outputs": [],
   "source": [
    "# Object name\n",
    "hdulist['PSRPARAM'].data[0][0]"
   ]
  },
  {
   "cell_type": "code",
   "execution_count": null,
   "metadata": {
    "collapsed": false
   },
   "outputs": [],
   "source": [
    "hdulist['PSRPARAM'].data"
   ]
  },
  {
   "cell_type": "code",
   "execution_count": null,
   "metadata": {
    "collapsed": false
   },
   "outputs": [],
   "source": [
    "type(hdulist['SUBINT'].data)"
   ]
  },
  {
   "cell_type": "code",
   "execution_count": null,
   "metadata": {
    "collapsed": false
   },
   "outputs": [],
   "source": [
    "from astropy.io.fits import getdata"
   ]
  },
  {
   "cell_type": "code",
   "execution_count": null,
   "metadata": {
    "collapsed": false
   },
   "outputs": [],
   "source": [
    "getdata('p130712_234328.rf', 'SUBINT', 0)"
   ]
  },
  {
   "cell_type": "code",
   "execution_count": null,
   "metadata": {
    "collapsed": false
   },
   "outputs": [],
   "source": [
    "freq_bins = hdulist['SUBINT'].data[0][-5]"
   ]
  },
  {
   "cell_type": "code",
   "execution_count": null,
   "metadata": {
    "collapsed": false
   },
   "outputs": [],
   "source": [
    "hdulist['SUBINT'].data[0][-4].shape"
   ]
  },
  {
   "cell_type": "code",
   "execution_count": null,
   "metadata": {
    "collapsed": false
   },
   "outputs": [],
   "source": [
    "plt.plot(hdulist['SUBINT'].data[0][-5])"
   ]
  },
  {
   "cell_type": "code",
   "execution_count": null,
   "metadata": {
    "collapsed": false
   },
   "outputs": [],
   "source": [
    "data1 = hdulist['SUBINT'].data[0][-1]\n",
    "data1.shape"
   ]
  },
  {
   "cell_type": "code",
   "execution_count": null,
   "metadata": {
    "collapsed": true
   },
   "outputs": [],
   "source": [
    "# From http://stackoverflow.com/questions/2459295/invertible-stft-and-istft-in-python\n",
    "import scipy, pylab\n",
    "\n",
    "def stft(x, fs, framesz, hop):\n",
    "    framesamp = int(framesz*fs)\n",
    "    hopsamp = int(hop*fs)\n",
    "    w = scipy.hanning(framesamp)\n",
    "    X = scipy.array([scipy.fft(w*x[i:i+framesamp]) \n",
    "                     for i in range(0, len(x)-framesamp, hopsamp)])\n",
    "    return X\n",
    "\n",
    "def istft(X, fs, T, hop):\n",
    "    x = scipy.zeros(T*fs)\n",
    "    framesamp = X.shape[1]\n",
    "    hopsamp = int(hop*fs)\n",
    "    for n,i in enumerate(range(0, len(x)-framesamp, hopsamp)):\n",
    "        x[i:i+framesamp] += scipy.real(scipy.ifft(X[n]))\n",
    "    return x\n",
    "\n",
    "def istft2(X, overlap=4):   \n",
    "    fftsize=(X.shape[1]-1)*2\n",
    "    hop = fftsize / overlap\n",
    "    w = scipy.hanning(fftsize+1)[:-1]\n",
    "    x = scipy.zeros(X.shape[0]*hop)\n",
    "    wsum = scipy.zeros(X.shape[0]*hop) \n",
    "    for n,i in enumerate(range(0, len(x)-fftsize, hop)): \n",
    "        x[i:i+fftsize] += scipy.real(np.fft.irfft(X[n])) * w   # overlap-add\n",
    "        wsum[i:i+fftsize] += w ** 2.\n",
    "    pos = wsum != 0\n",
    "    x[pos] /= wsum[pos]\n",
    "    return x"
   ]
  },
  {
   "cell_type": "code",
   "execution_count": null,
   "metadata": {
    "collapsed": true
   },
   "outputs": [],
   "source": [
    "polar1 = data1[0]\n",
    "chirp = polar1[100:450]"
   ]
  },
  {
   "cell_type": "code",
   "execution_count": null,
   "metadata": {
    "collapsed": false
   },
   "outputs": [],
   "source": [
    "plt.imshow(chirp, origin='lower')\n",
    "plt.colorbar()"
   ]
  },
  {
   "cell_type": "code",
   "execution_count": null,
   "metadata": {
    "collapsed": false
   },
   "outputs": [],
   "source": [
    "fs = 16000\n",
    "T = 2\n",
    "hop = 200./fs\n",
    "# isf = istft(data1[0].T, fs, T, hop)\n",
    "isf = istft2(chirp, overlap=300)"
   ]
  },
  {
   "cell_type": "code",
   "execution_count": null,
   "metadata": {
    "collapsed": false
   },
   "outputs": [],
   "source": [
    "from scipy.io import wavfile\n",
    "\n",
    "def write_wavfile(data, fs, filename='pulsarsound.wav'):\n",
    "    d = np.int16(data * 0.9 / np.max(np.abs(data)) * 32767)\n",
    "    wavfile.write(filename, int(fs), d)\n",
    "\n",
    "def note(sig, time, fname='pulsarsound.wav'):\n",
    "    rate = int(float(sig.size) / time)\n",
    "    print rate\n",
    "    wavfile.write(fname, rate, sig)\n",
    "\n",
    "write_wavfile(isf, 1000)\n",
    "#note(isf, 2)"
   ]
  },
  {
   "cell_type": "code",
   "execution_count": null,
   "metadata": {
    "collapsed": false
   },
   "outputs": [],
   "source": [
    "plt.plot(isf)\n",
    "plt.ylim(-1e3, 1e3)"
   ]
  },
  {
   "cell_type": "raw",
   "metadata": {},
   "source": [
    "from IPython.display import Audio\n",
    "Audio(filename='/Users/gary/pulsarvoices/data/pulsarsound.wav')"
   ]
  },
  {
   "cell_type": "code",
   "execution_count": null,
   "metadata": {
    "collapsed": false
   },
   "outputs": [],
   "source": [
    "pwd"
   ]
  },
  {
   "cell_type": "markdown",
   "metadata": {},
   "source": [
    "Docs for\n",
    "SUBINTEGRATION DATA BINARY TABLE EXTENSION\n",
    "\n",
    "Table containing the observed power spectra, that is spectra after detection or multiplication. Two modes of observation are catered for:\n",
    "\n",
    "fold mode: where the data are synchronously folded at the apparent period of a pulsar using a Tempo polyco file or a Tempo2 predictor file and samples are binned in pulse phase\n",
    "search mode: where streamed multichannel data are recorded in successive samples.\n",
    "In both modes, the data can have a single polarisation (normally the sum of two orthogonal polarisations), two orthogonal polarisations or all four polarisation spectra.\n",
    "\n",
    "In fold mode, data are summed over a sub-integration time and successive sub-integrations are stored in successive rows of the BINTABLE. In search mode, data are blocked in groups of NSBLK samples and stored in successive rows of the BINTABLE. To avoid excessive overheads, NSBLK is typically 4096.\n",
    "\n",
    "Fold-mode data are stored as 16-bit signed integers with elements of the data array in bin, channel and polarisation order with the pulse profile bins in contiguous locations. Before conversion to integers, the mean channel power (averaged over bins and polarisations) during the sub-integration is subtracted from the channel data and the residual is scaled so that the values in the DATA array cover the whole available range (-32768 to 32767). The original observed powers are reconstructed using:\n",
    "\n",
    "Real value = DATA value * DAT_SCL + DAT_OFFS.\n",
    "Search-mode data may be stored as 1-bit, 2-bit, 4-bit or 8-bit signed or unsigned integers and are written as a byte array. Data digitised with less than 8 bits are packed with earlier samples in higher-order bits of the byte (i.e., \"big-endian\"). Elements of the data array are in channel, polarisation and sample order with the spectral channels in contiguous locations.\n",
    "\n",
    "Prior to few-bit digitisation, search-mode sample spectra are generally normalised and given zero mean by forming (S-R)/R, where S is the observed spectrum and R is an estimate of the bandpass or reference spectrum. This effectively does a bandpass calibration and gives an approximately constant rms deviation across the spectrum in order to optimise the few-bit digitisation. These data are normally analysed directly without application of the scale factors and offsets. If required, the reference spectrum may be reconstructed from the DAT_OFFS and DAT_SCL fields of the table. However note that, if channel running means are used to form the reference spectrum, the recorded values are sampled at sub-integration intervals and do do not necessarily represent the exact values used to form the recorded spectra.\n",
    "\n",
    "When unsigned integers are used to record the truncated data, a zero offset (ZERO_OFFS) is added to the digitised value. Normally ZERO_OFFS = 2^(NBIT - 1) - 0.5, but for total-intensity multi-bit data, a smaller value may be used to give more headroom. The original observed values are reconstructed using:\n",
    "\n",
    "Real value = (DATA value - ZERO_OFFS) * DAT_SCL + DAT_OFFS.\n",
    "The output data for long search-mode observations may be split in time or frequency and recorded in separate files to keep file sizes at manageable values. It is assumed that the data sampling is continuous across the split files.\n",
    "\n",
    "XTENSION= BINTABLE / ***** Subintegration data ***** \n",
    "BITPIX = 8 / N/A \n",
    "NAXIS = 2 / 2-dimensional binary table \n",
    "NAXIS1 = * / width of table in bytes \n",
    "NAXIS2 = * / Number of rows in table (NSUBINT) \n",
    "PCOUNT = 0 / size of special data area \n",
    "GCOUNT = 1 / one data group (required keyword) \n",
    "TFIELDS = 18 / Number of fields per row\n",
    "\n",
    "Standard FITS Binary Table header\n",
    "INT_TYPE= ' ' / Time axis (TIME, BINPHSPERI, BINLNGASC, etc)\n",
    "\n",
    "Normally data are recorded with a uniform time axis, i.e., sub-integrations are spaced by equal time intervals. However, in post-processing it is possible to make the nominal time axis non-linear, to represent for example, binary orbital phase or longitude. This keyword describes the form of the nominal time axis.\n",
    "INT_UNIT= ' ' / Unit of time axis (SEC, PHS (0-1), DEG)\n",
    "\n",
    "Units of the nominal time axis.\n",
    "SCALE = ' ' / Intensity units (FluxDen/RefFlux/Jansky)\n",
    "\n",
    "Units of the data.\n",
    "POL_TYPE= ' ' / Polarisation identifier (e.g., AABBCRCI, AA+BB)\n",
    "\n",
    "A string describing the type of polarisation data, e.g., for NPOL=1 total-intensity data (summed orthogonal polarisations), \"AA+BB\" may be used, where AA represents the auto-spectrum of the A channel and BB represents the auto-spectrum of the B channel. For NPOL=2, \"AABB\" may be used. For full polarisation data, \"AABBCRCI\" may be used where CR represents the real part of the A* B cross-spectrum and CI represents the imaginary part. For calibrated Stokes parameters, \"IQUV\" is normally used.\n",
    "NPOL = * / Nr of polarisations\n",
    "\n",
    "The number of polarisation products contained in the DATA table.\n",
    "TBIN = * / [s] Time per bin or sample\n",
    "\n",
    "For fold-mode data, the bin width in seconds; for search-mode data, the sampling interval in seconds.\n",
    "NBIN = * / Nr of bins (PSR/CAL mode; else 1)\n",
    "\n",
    "The number of bins in the fold-mode profile. For search-mode data, this parameter is irrelevant and normally set to 1.\n",
    "NBIN_PRD= * / Nr of bins/pulse period (for gated data)\n",
    "\n",
    "For observations where only part of the pulse profile is recorded (gated data), NBIN_PRD is the number of bins that the full pulse period would occupy. For example, if 256 bins are recorded across one quarter of the pulse period, NBIN = 256 and NBIN_PRD = 1024.\n",
    "Alternatively, if more than one pulse period is contained within the recorded pulse profile, then NBIN_PRD is a sub-multiple of NBIN.\n",
    "\n",
    "PHS_OFFS= * / Phase offset of bin 0 for gated data\n",
    "\n",
    "For gated data, the value of pulse phase (in the range 0 - 1.0) corresponding to the leading edge of the first (index zero) bin in the folded profile.\n",
    "NBITS = * / Nr of bits/datum (SEARCH mode data, else 1)\n",
    "\n",
    "For search-mode data, the number of bits per sample datum. Ignored for fold-mode data.\n",
    "ZERO_OFF= * / Zero offset for SEARCH-mode data\n",
    "\n",
    "For data recorded as unsigned integers, the offset of the nominal data zero in digitiser units (actual data value = unsigned integer value - ZERO_OFF).\n",
    "SIGNINT = * / 1 for signed ints in SEARCH-mode data, else 0\n",
    "\n",
    "A flag to indicate that the data values are signed integers rather than unsigned integers.\n",
    "NSUBOFFS= * / Subint offset (Contiguous SEARCH-mode files)\n",
    "\n",
    "For files split in time, NSUBOFFS is the accumulated sub-integration count at the start of this file (such that true index value = file index value + NSUBOFFS).\n",
    "NCHAN = * / Number of channels/sub-bands in this file\n",
    "\n",
    "Number of frequency channels for each polarisation\n",
    "CHAN_BW = * / [MHz] Channel/sub-band width\n",
    "\n",
    "Channel bandwidth in MHz. Note that CHAN_BW < 0 implies decreasing frequency with increasing channel number.\n",
    "DM = * / [cm-3 pc] DM for post-detection dedisperion\n",
    "\n",
    "Dispersion measure used for post-detection dedispersion.\n",
    "RM = * / [rad m-2] RM for post-detection deFaraday\n",
    "\n",
    "Rotation measure used for post-detection correction of Faraday rotation\n",
    "NCHNOFFS= * / Channel/sub-band offset for split files\n",
    "\n",
    "For files split in frequency, NCHNOFFS is the true channel index of the first channel in this file (true index value = file index value + NCHNOFFS).\n",
    "NSBLK = * / Samples/row (SEARCH mode, else 1)\n",
    "\n",
    "For search-mode data, the number of samples in one table row or sub-integration.\n",
    "NSTOT = * / Total number of samples (SEARCH mode, else 1)\n",
    "\n",
    "Total number of valid samples in a search-mode file. This is useful since the last row may not be completely filled. Note, for split files, NSTOT should be the number of samples in that file, i.e., not accumulated over the whole observation.\n",
    "EXTNAME = SUBINT / name of this binary table extension\n",
    "\n",
    "TTYPE# = INDEXVAL / Optionally used if INT_TYPE != TIME \n",
    "TFORM# = 1D / Double\n",
    "\n",
    "If INT_TYPE is not \"TIME\", this column gives the value of the time-like coordinate at the sub-integration centre, expressed in appropriate units (e.g., degrees for longitude).\n",
    "TTYPE# = TSUBINT / Length of subintegration \n",
    "TFORM# = 1D / Double \n",
    "TUNIT# = s / Units of field\n",
    "\n",
    "Duration of sub-integration (or row for search-mode data)\n",
    "TTYPE# = OFFS_SUB / Offset from Start of subint centre \n",
    "TFORM# = 1D / Double \n",
    "TUNIT# = s / Units of field\n",
    "\n",
    "Time since the observation start at the centre of each sub-integration (or row).\n",
    "TTYPE# = LST_SUB / LST at subint centre \n",
    "TFORM# = 1D / Double \n",
    "TUNIT# = s / Units of field\n",
    "\n",
    "Approximate local sidereal time at the sub-integration centre\n",
    "TTYPE# = RA_SUB / RA (J2000) at subint centre \n",
    "TFORM# = 1D / Double \n",
    "TUNIT# = deg / Units of field\n",
    "\n",
    "Pointing J2000 Right Ascension at the time of the sub-integration centre. For scanning observations this may change with time.\n",
    "TTYPE# = DEC_SUB / Dec (J2000) at subint centre \n",
    "TFORM# = 1D / Double \n",
    "TUNIT# = deg / Units of field\n",
    "\n",
    "Pointing J2000 Declination at the time of the sub-integration centre. For scanning observations this may change with time."
   ]
  },
  {
   "cell_type": "code",
   "execution_count": null,
   "metadata": {
    "collapsed": true
   },
   "outputs": [],
   "source": [
    "from astropy.coordinates import SkyCoord, spherical_to_cartesian"
   ]
  },
  {
   "cell_type": "code",
   "execution_count": null,
   "metadata": {
    "collapsed": false
   },
   "outputs": [],
   "source": [
    "# Get coords of pulsar (ra, dec)\n",
    "header = hdulist['PSRPARAM'].data\n",
    "ra = header[1][0].split()[1]\n",
    "dec = header[2][0].split()[1]\n",
    "print ra, dec"
   ]
  },
  {
   "cell_type": "code",
   "execution_count": null,
   "metadata": {
    "collapsed": false
   },
   "outputs": [],
   "source": [
    "# Convert (ra, dec) to (x, y, z)\n",
    "c = SkyCoord(ra, dec, frame='icrs', unit='deg')\n",
    "spherical_to_cartesian(1, c.ra.radian, c.dec.radian)"
   ]
  },
  {
   "cell_type": "code",
   "execution_count": null,
   "metadata": {
    "collapsed": true
   },
   "outputs": [],
   "source": []
  }
 ],
 "metadata": {
  "kernelspec": {
   "display_name": "Python 2",
   "language": "python",
   "name": "python2"
  },
  "language_info": {
   "codemirror_mode": {
    "name": "ipython",
    "version": 2
   },
   "file_extension": ".py",
   "mimetype": "text/x-python",
   "name": "python",
   "nbconvert_exporter": "python",
   "pygments_lexer": "ipython2",
   "version": "2.7.11"
  }
 },
 "nbformat": 4,
 "nbformat_minor": 0
}
