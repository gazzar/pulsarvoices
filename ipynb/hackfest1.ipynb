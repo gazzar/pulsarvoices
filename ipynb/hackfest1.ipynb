{
 "cells": [
  {
   "cell_type": "markdown",
   "metadata": {},
   "source": [
    "Read pulsar data taken from the CSIRO DAP at  \n",
    "https://data.csiro.au/dap/search?q=pulsars  \n",
    "and interpret according to psrfits format described at  \n",
    "http://www.atnf.csiro.au/people/pulsar/index.html?n=Main.Psrfits  \n",
    "(detailed view at http://www.atnf.csiro.au/people/pulsar/index.html?n=PsrfitsDocumentation.Txt)  "
   ]
  },
  {
   "cell_type": "code",
   "execution_count": null,
   "metadata": {
    "collapsed": false
   },
   "outputs": [],
   "source": [
    "import astropy\n",
    "from astropy.io import fits\n",
    "import matplotlib.pyplot as plt"
   ]
  },
  {
   "cell_type": "code",
   "execution_count": 49,
   "metadata": {
    "collapsed": false
   },
   "outputs": [
    {
     "name": "stdout",
     "output_type": "stream",
     "text": [
      "/Users/gary/hackfest/data\n"
     ]
    }
   ],
   "source": [
    "cd ~/hackfest/data"
   ]
  },
  {
   "cell_type": "code",
   "execution_count": 50,
   "metadata": {
    "collapsed": false
   },
   "outputs": [
    {
     "name": "stdout",
     "output_type": "stream",
     "text": [
      "p130712_234328.rf  t130131_070547.rf\r\n"
     ]
    }
   ],
   "source": [
    "ls"
   ]
  },
  {
   "cell_type": "code",
   "execution_count": 51,
   "metadata": {
    "collapsed": false
   },
   "outputs": [],
   "source": [
    "hdulist = fits.open('p130712_234328.rf')"
   ]
  },
  {
   "cell_type": "code",
   "execution_count": 52,
   "metadata": {
    "collapsed": false
   },
   "outputs": [
    {
     "name": "stdout",
     "output_type": "stream",
     "text": [
      "Filename: p130712_234328.rf\n",
      "No.    Name         Type      Cards   Dimensions   Format\n",
      "0    PRIMARY     PrimaryHDU      64   ()              \n",
      "1    HISTORY     BinTableHDU     71   2R x 28C     [24A, 80A, 8A, 8A, 1I, 1I, 1I, 1I, 1D, 1D, 1I, 1D, 1D, 1D, 1I, 1I, 1I, 1I, 1I, 32A, 32A, 32A, 32A, 32A, 32A, 1I, 32A, 1I]   \n",
      "2    PSRPARAM    BinTableHDU     12   12R x 1C     [128A]   \n",
      "3    POLYCO      BinTableHDU     38   1R x 13C     [24A, 16A, 1I, 1I, 1I, 8A, 1D, 1D, 1D, 1D, 1D, 1D, 15D]   \n",
      "4    SUBINT      BinTableHDU     87   9R x 20C     [1D, 1D, 1D, 1D, 1D, 1D, 1D, 1D, 1E, 1E, 1E, 1E, 1E, 1D, 1D, 512E, 512E, 2048E, 2048E, 2097152I]   \n"
     ]
    }
   ],
   "source": [
    "hdulist.info()"
   ]
  },
  {
   "cell_type": "code",
   "execution_count": 57,
   "metadata": {
    "collapsed": false
   },
   "outputs": [
    {
     "data": {
      "text/plain": [
       "'PSRJ           \\tJ0738-4042'"
      ]
     },
     "execution_count": 57,
     "metadata": {},
     "output_type": "execute_result"
    }
   ],
   "source": [
    "# Object name\n",
    "hdulist['PSRPARAM'].data[0][0]"
   ]
  },
  {
   "cell_type": "code",
   "execution_count": 53,
   "metadata": {
    "collapsed": false
   },
   "outputs": [
    {
     "data": {
      "text/plain": [
       "FITS_rec([('PSRJ           \\tJ0738-4042'),\n",
       "       ('RAJ            \\t07:38:32.329             1.000e-02'),\n",
       "       ('DECJ           \\t-40:42:40.94             1.000e-01'),\n",
       "       ('DM             \\t160.8                    7.000e-01'),\n",
       "       ('PEPOCH         \\t51700.00'),\n",
       "       ('F0             \\t2.66723578343            5.000e-11'),\n",
       "       ('F1             \\t-1.1497E-14              7.000e-18'),\n",
       "       ('PMRA           \\t-14.0                    1.200e+00'),\n",
       "       ('PMDEC          \\t13                       2.000e+00'),\n",
       "       ('POSEPOCH       \\t51360.0'),\n",
       "       ('RM             \\t12.1                     6.000e-01'),\n",
       "       ('EPHVER         \\t2')], \n",
       "      dtype=(numpy.record, [('PARAM', 'S128')]))"
      ]
     },
     "execution_count": 53,
     "metadata": {},
     "output_type": "execute_result"
    }
   ],
   "source": [
    "hdulist['PSRPARAM'].data"
   ]
  },
  {
   "cell_type": "code",
   "execution_count": null,
   "metadata": {
    "collapsed": false
   },
   "outputs": [],
   "source": [
    "hdulist['SUBINT'].keys()"
   ]
  },
  {
   "cell_type": "code",
   "execution_count": null,
   "metadata": {
    "collapsed": false
   },
   "outputs": [],
   "source": [
    "hdulist['SUBINT'].data"
   ]
  },
  {
   "cell_type": "code",
   "execution_count": null,
   "metadata": {
    "collapsed": true
   },
   "outputs": [],
   "source": []
  }
 ],
 "metadata": {
  "kernelspec": {
   "display_name": "Python 2",
   "language": "python",
   "name": "python2"
  },
  "language_info": {
   "codemirror_mode": {
    "name": "ipython",
    "version": 2
   },
   "file_extension": ".py",
   "mimetype": "text/x-python",
   "name": "python",
   "nbconvert_exporter": "python",
   "pygments_lexer": "ipython2",
   "version": "2.7.11"
  }
 },
 "nbformat": 4,
 "nbformat_minor": 0
}
